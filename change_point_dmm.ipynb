{
 "cells": [
  {
   "cell_type": "code",
   "execution_count": null,
   "metadata": {},
   "outputs": [],
   "source": [
    "import numpy as np\n",
    "from change_point_dmm import change_point_DMM\n",
    "import torch\n",
    "from pyro.optim import ClippedAdam\n",
    "from pyro.infer import SVI,Trace_ELBO\n",
    "from tqdm import tqdm"
   ]
  },
  {
   "cell_type": "code",
   "execution_count": null,
   "metadata": {},
   "outputs": [],
   "source": [
    "data = np.load(\"toy_data/x_seq.npy\")\n",
    "data = data.reshape(1000,1,3)\n",
    "data = torch.from_numpy(data).float()\n",
    "change_point_dmm = change_point_DMM()\n",
    "adam_params = {\n",
    "    \"lr\": 0.003,\n",
    "    \"clip_norm\": 1.0\n",
    "}\n",
    "adam = ClippedAdam(adam_params)\n",
    "elbo = Trace_ELBO()\n",
    "svi = SVI(change_point_dmm.model, change_point_dmm.guide, adam, loss=elbo)\n",
    "with open(\"dmm.log\",\"w\") as f:\n",
    "    for _ in tqdm(range(1000)):\n",
    "        loss = svi.step(data)\n",
    "        print(loss,file=f)"
   ]
  },
  {
   "cell_type": "code",
   "execution_count": null,
   "metadata": {},
   "outputs": [],
   "source": [
    "losses = np.loadtxt(\"dmm.log\")"
   ]
  },
  {
   "cell_type": "code",
   "execution_count": null,
   "metadata": {},
   "outputs": [],
   "source": [
    "import matplotlib.pyplot as plt\n",
    "plt.figure(figsize=(5, 2))\n",
    "plt.plot(losses)"
   ]
  },
  {
   "cell_type": "code",
   "execution_count": null,
   "metadata": {},
   "outputs": [],
   "source": [
    "import pyro\n",
    "pi = pyro.param(\"pi\").data.cpu().numpy()\n",
    "from scipy.special import softmax\n",
    "prob=softmax(pi)"
   ]
  },
  {
   "cell_type": "code",
   "execution_count": null,
   "metadata": {},
   "outputs": [],
   "source": [
    "import matplotlib.pyplot as plt\n",
    "plt.plot(prob, label=\"test\")\n",
    "plt.legend()\n",
    "plt.ylim(0,0.2)\n",
    "plt.show()"
   ]
  }
 ],
 "metadata": {
  "kernelspec": {
   "display_name": "Python 3.10.0 ('dmm_pyro')",
   "language": "python",
   "name": "python3"
  },
  "language_info": {
   "codemirror_mode": {
    "name": "ipython",
    "version": 3
   },
   "file_extension": ".py",
   "mimetype": "text/x-python",
   "name": "python",
   "nbconvert_exporter": "python",
   "pygments_lexer": "ipython3",
   "version": "3.10.0"
  },
  "orig_nbformat": 4,
  "vscode": {
   "interpreter": {
    "hash": "6ad9505370cb3dec620dc35465a52cf3ae64300f69412d40d5aa0cfb7cfa7a6a"
   }
  }
 },
 "nbformat": 4,
 "nbformat_minor": 2
}
