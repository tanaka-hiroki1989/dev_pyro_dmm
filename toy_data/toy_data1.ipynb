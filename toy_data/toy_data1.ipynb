{
 "cells": [
  {
   "cell_type": "code",
   "execution_count": 1,
   "metadata": {},
   "outputs": [],
   "source": [
    "import numpy as np"
   ]
  },
  {
   "cell_type": "code",
   "execution_count": 2,
   "metadata": {},
   "outputs": [],
   "source": [
    "z_init = np.array([[1.0],[0.0]])"
   ]
  },
  {
   "cell_type": "code",
   "execution_count": 3,
   "metadata": {},
   "outputs": [],
   "source": [
    "A = np.array([[0.9,0.1],[0.1,0.9]])\n",
    "B= np.array([[0.7,0.3],[0.8,0.2],[0.2,0.8]])"
   ]
  },
  {
   "cell_type": "code",
   "execution_count": 4,
   "metadata": {},
   "outputs": [],
   "source": [
    "def transition(A,z):\n",
    "    return A @ z + np.random.randn(2,1) "
   ]
  },
  {
   "cell_type": "code",
   "execution_count": 5,
   "metadata": {},
   "outputs": [],
   "source": [
    "def emmition(B,z):\n",
    "    return B @ z + np.random.randn(3,1)"
   ]
  },
  {
   "cell_type": "code",
   "execution_count": 10,
   "metadata": {},
   "outputs": [
    {
     "name": "stdout",
     "output_type": "stream",
     "text": [
      "[]\n"
     ]
    },
    {
     "data": {
      "text/plain": [
       "'\\nfor t in range(T):\\n    x_seq.append(emmition(B,z_seq[:-1]))\\n    z_seq.append(transition(A,z_seq[:-1]))\\nprint(z_seq)\\n'"
      ]
     },
     "execution_count": 10,
     "metadata": {},
     "output_type": "execute_result"
    }
   ],
   "source": [
    "T=5\n",
    "z_seq=[z_init]\n",
    "x_seq=[]\n",
    "print(z_seq[:-1])\n",
    "\n",
    "\"\"\"\n",
    "for t in range(T):\n",
    "    x_seq.append(emmition(B,z_seq[:-1]))\n",
    "    z_seq.append(transition(A,z_seq[:-1]))\n",
    "print(z_seq)\n",
    "\"\"\"    \n",
    "\n",
    "\n"
   ]
  }
 ],
 "metadata": {
  "kernelspec": {
   "display_name": "Python 3.6.13 ('dmm_pyro')",
   "language": "python",
   "name": "python3"
  },
  "language_info": {
   "codemirror_mode": {
    "name": "ipython",
    "version": 3
   },
   "file_extension": ".py",
   "mimetype": "text/x-python",
   "name": "python",
   "nbconvert_exporter": "python",
   "pygments_lexer": "ipython3",
   "version": "3.6.13"
  },
  "orig_nbformat": 4,
  "vscode": {
   "interpreter": {
    "hash": "6ad9505370cb3dec620dc35465a52cf3ae64300f69412d40d5aa0cfb7cfa7a6a"
   }
  }
 },
 "nbformat": 4,
 "nbformat_minor": 2
}
